{
 "cells": [
  {
   "cell_type": "markdown",
   "id": "226ddb43",
   "metadata": {},
   "source": [
    "# Exercises - Regex"
   ]
  },
  {
   "cell_type": "markdown",
   "id": "0d467afc",
   "metadata": {},
   "source": [
    "1. Write a function named is_vowel. It should accept a string as input and use a regular expression to determine if the passed string is a vowel. While not explicity mentioned in the lesson, you can treat the result of re.search as a boolean value that indicates whether or not the regular expression matches the given string."
   ]
  },
  {
   "cell_type": "code",
   "execution_count": 195,
   "id": "0bc4df39",
   "metadata": {},
   "outputs": [],
   "source": [
    "import re\n",
    "import pandas as pd"
   ]
  },
  {
   "cell_type": "code",
   "execution_count": 53,
   "id": "df701312",
   "metadata": {},
   "outputs": [],
   "source": [
    "def is_vowel(value):\n",
    "    result = bool(re.search(r'^[aeiou]$', value, re.IGNORECASE))\n",
    "    return result\n",
    "    "
   ]
  },
  {
   "cell_type": "code",
   "execution_count": 56,
   "id": "f814f7bb",
   "metadata": {},
   "outputs": [
    {
     "data": {
      "text/plain": [
       "True"
      ]
     },
     "execution_count": 56,
     "metadata": {},
     "output_type": "execute_result"
    }
   ],
   "source": [
    "is_vowel('i')"
   ]
  },
  {
   "cell_type": "markdown",
   "id": "5fb33993",
   "metadata": {},
   "source": [
    "2. Write a function named is_valid_username that accepts a string as input. A valid username starts with a lowercase letter, and only consists of lowercase letters, numbers, or the _ character. It should also be no longer than 32 characters. The function should return either True or False depending on whether the passed string is a valid username."
   ]
  },
  {
   "cell_type": "markdown",
   "id": "0c382ef8",
   "metadata": {},
   "source": [
    ">>> is_valid_username('aaaaaaaaaaaaaaaaaaaaaaaaaaaaaaaaa')  \n",
    "False  \n",
    ">>> is_valid_username('codeup')  \n",
    "True  \n",
    ">>> is_valid_username('Codeup')  \n",
    "False  \n",
    ">>> is_valid_username('codeup123')  \n",
    "True  \n",
    ">>> is_valid_username('1codeup')  \n",
    "False  "
   ]
  },
  {
   "cell_type": "code",
   "execution_count": 76,
   "id": "ff0f8dec",
   "metadata": {},
   "outputs": [],
   "source": [
    "def is_valid_username(value):\n",
    "    result2 = bool(re.search(r'^[a-z]\\w{0,31}$', value))\n",
    "    return result2"
   ]
  },
  {
   "cell_type": "code",
   "execution_count": 106,
   "id": "b75c5c5e",
   "metadata": {},
   "outputs": [
    {
     "data": {
      "text/plain": [
       "True"
      ]
     },
     "execution_count": 106,
     "metadata": {},
     "output_type": "execute_result"
    }
   ],
   "source": [
    "is_valid_username('aaaaaaaaaaaaa_aaaaaaaaaaaaaaaaa')"
   ]
  },
  {
   "cell_type": "markdown",
   "id": "2ddb3afe",
   "metadata": {},
   "source": [
    "3. Write a regular expression to capture phone numbers. It should match all of the following:"
   ]
  },
  {
   "cell_type": "markdown",
   "id": "d9929156",
   "metadata": {},
   "source": [
    "(210) 867 5309  \n",
    "+1 210.867.5309  \n",
    "867-5309  \n",
    "210-867-5309  "
   ]
  },
  {
   "cell_type": "code",
   "execution_count": 151,
   "id": "989e9a2a",
   "metadata": {},
   "outputs": [],
   "source": [
    "def phone_numbers(value):\n",
    "    result3 = re.findall(r'^[(|+|\\d]\\d*[)|-|.|\\s|\\d]\\d*[-|.|\\s|\\d]\\d*[-|.|\\s|\\d]\\d*', value)\n",
    "    return result3"
   ]
  },
  {
   "cell_type": "code",
   "execution_count": 155,
   "id": "a62a7949",
   "metadata": {},
   "outputs": [
    {
     "data": {
      "text/plain": [
       "['867-5309']"
      ]
     },
     "execution_count": 155,
     "metadata": {},
     "output_type": "execute_result"
    }
   ],
   "source": [
    "phone_numbers('867-5309')"
   ]
  },
  {
   "cell_type": "markdown",
   "id": "ebc54fc9",
   "metadata": {},
   "source": [
    "4. Use regular expressions to convert the dates below to the standardized year-month-day format."
   ]
  },
  {
   "cell_type": "markdown",
   "id": "64fea0d5",
   "metadata": {},
   "source": [
    "02/04/19  \n",
    "02/05/19  \n",
    "02/06/19  \n",
    "02/07/19  \n",
    "02/08/19  \n",
    "02/09/19  \n",
    "02/10/19  "
   ]
  },
  {
   "cell_type": "code",
   "execution_count": 187,
   "id": "f2c4639a",
   "metadata": {},
   "outputs": [],
   "source": [
    "def convert_dates(value):\n",
    "    result4 = re.sub(r'(\\d+)/(\\d+)/(\\d+)', r'\\3/\\2/\\1', value)\n",
    "    return result4"
   ]
  },
  {
   "cell_type": "code",
   "execution_count": 188,
   "id": "cfe02288",
   "metadata": {},
   "outputs": [
    {
     "data": {
      "text/plain": [
       "'19/04/02'"
      ]
     },
     "execution_count": 188,
     "metadata": {},
     "output_type": "execute_result"
    }
   ],
   "source": [
    "convert_dates('02/04/19')"
   ]
  },
  {
   "cell_type": "markdown",
   "id": "44dbb5e5",
   "metadata": {},
   "source": [
    "5. Write a regex to extract the various parts of these logfile lines:"
   ]
  },
  {
   "cell_type": "markdown",
   "id": "66f83668",
   "metadata": {},
   "source": [
    "GET /api/v1/sales?page=86 [16/Apr/2019:193452+0000] HTTP/1.1 {200} 510348 \"python-requests/2.21.0\" 97.105.19.58  \n",
    "POST /users_accounts/file-upload [16/Apr/2019:193452+0000] HTTP/1.1 {201} 42 \"User-Agent: Mozilla/5.0 (X11; Fedora; Fedora; Linux x86_64) AppleWebKit/537.36 (KHTML, like Gecko) Chrome/73.0.3683.86 Safari/537.36\" 97.105.19.58  \n",
    "GET /api/v1/items?page=3 [16/Apr/2019:193453+0000] HTTP/1.1 {429} 3561 \"python-requests/2.21.0\" 97.105.19.58  \n"
   ]
  },
  {
   "cell_type": "code",
   "execution_count": 208,
   "id": "718c2b5b",
   "metadata": {},
   "outputs": [],
   "source": [
    "url1 = 'GET /api/v1/sales?page=86 [16/Apr/2019:193452+0000] HTTP/1.1 {200} 510348 \"python-requests/2.21.0\" 97.105.19.58'\n",
    "\n",
    "url2 = 'POST /users_accounts/file-upload [16/Apr/2019:193452+0000] HTTP/1.1 {201} 42 \"User-Agent: Mozilla/5.0 (X11; Fedora; Fedora; Linux x86_64) AppleWebKit/537.36 (KHTML, like Gecko) Chrome/73.0.3683.86 Safari/537.36\" 97.105.19.58'\n",
    "\n",
    "url3 = 'GET /api/v1/items?page=3 [16/Apr/2019:193453+0000] HTTP/1.1 {429} 3561 \"python-requests/2.21.0\" 97.105.19.58'\n",
    "\n"
   ]
  },
  {
   "cell_type": "code",
   "execution_count": 212,
   "id": "8c20a595",
   "metadata": {},
   "outputs": [],
   "source": [
    "url_re = r'(GET|POST)\\s(.+)\\s(.+)\\s(.+)\\s(.+)\\s(.+)\\s(.+)\\s(.+)'\n",
    "\n",
    "match = re.search(url_re, url1).groups()"
   ]
  },
  {
   "cell_type": "code",
   "execution_count": 213,
   "id": "d03d8119",
   "metadata": {},
   "outputs": [],
   "source": [
    "protocol, page, datetime, version, code, hits, requests, url = re.search(url_re, url1).groups()"
   ]
  },
  {
   "cell_type": "code",
   "execution_count": 238,
   "id": "4d7cf08a",
   "metadata": {},
   "outputs": [
    {
     "data": {
      "text/plain": [
       "('GET',\n",
       " '/api/v1/sales?page=86',\n",
       " '[16/Apr/2019:193452+0000]',\n",
       " 'HTTP/1.1',\n",
       " '{200}',\n",
       " '510348',\n",
       " '\"python-requests/2.21.0\"',\n",
       " '97.105.19.58')"
      ]
     },
     "execution_count": 238,
     "metadata": {},
     "output_type": "execute_result"
    }
   ],
   "source": [
    "match = re.search(url_re, url1)\n",
    "match.groups()"
   ]
  },
  {
   "cell_type": "code",
   "execution_count": 221,
   "id": "d14f9721",
   "metadata": {},
   "outputs": [],
   "source": [
    "url_re = r'(?P<protocol>GET|POST?)\\s(?P<page>.+)\\s(?P<datetime>.+)\\s(?P<version>.+)\\s(?P<code>.+)\\s(?P<hits>.+)\\s(?P<requests>.+)\\s(?P<url>.+)'"
   ]
  },
  {
   "cell_type": "code",
   "execution_count": 222,
   "id": "897825ac",
   "metadata": {},
   "outputs": [],
   "source": [
    "match = re.search(url_re, url1)"
   ]
  },
  {
   "cell_type": "code",
   "execution_count": 223,
   "id": "ec334d5c",
   "metadata": {},
   "outputs": [
    {
     "data": {
      "text/plain": [
       "{'protocol': 'GET',\n",
       " 'page': '/api/v1/sales?page=86',\n",
       " 'datetime': '[16/Apr/2019:193452+0000]',\n",
       " 'version': 'HTTP/1.1',\n",
       " 'code': '{200}',\n",
       " 'hits': '510348',\n",
       " 'requests': '\"python-requests/2.21.0\"',\n",
       " 'url': '97.105.19.58'}"
      ]
     },
     "execution_count": 223,
     "metadata": {},
     "output_type": "execute_result"
    }
   ],
   "source": [
    "match.groupdict()"
   ]
  },
  {
   "cell_type": "code",
   "execution_count": 233,
   "id": "aa46c84d",
   "metadata": {},
   "outputs": [],
   "source": [
    "urls = pd.Series(['GET /api/v1/sales?page=86 [16/Apr/2019:193452+0000] HTTP/1.1 {200} 510348 \"python-requests/2.21.0\" 97.105.19.58',\n",
    "'POST /users_accounts/file-upload [16/Apr/2019:193452+0000] HTTP/1.1 {201} 42 \"User-Agent: Mozilla/5.0 (X11; Fedora; Fedora; Linux x86_64) AppleWebKit/537.36 (KHTML, like Gecko) Chrome/73.0.3683.86 Safari/537.36\" 97.105.19.58',\n",
    "'GET /api/v1/items?page=3 [16/Apr/2019:193453+0000] HTTP/1.1 {429} 3561 \"python-requests/2.21.0\" 97.105.19.58'])"
   ]
  },
  {
   "cell_type": "code",
   "execution_count": 234,
   "id": "b4c761fa",
   "metadata": {},
   "outputs": [],
   "source": [
    "pattern = re.compile(r\"\"\"\n",
    "(?P<protocol>GET|POST?)\\s(?P<page>.+)\\s(?P<datetime>.+)\\s(?P<version>.+)\\s(?P<code>.+)\\s(?P<hits>.+)\\s(?P<requests>.+)\\s(?P<url>.+)\n",
    "\"\"\", re.VERBOSE)"
   ]
  },
  {
   "cell_type": "code",
   "execution_count": 235,
   "id": "dca052ae",
   "metadata": {},
   "outputs": [
    {
     "data": {
      "text/plain": [
       "[{'protocol': 'GET',\n",
       "  'page': '/api/v1/sales?page=86',\n",
       "  'datetime': '[16/Apr/2019:193452+0000]',\n",
       "  'version': 'HTTP/1.1',\n",
       "  'code': '{200}',\n",
       "  'hits': '510348',\n",
       "  'requests': '\"python-requests/2.21.0\"',\n",
       "  'url': '97.105.19.58'},\n",
       " {'protocol': 'POST',\n",
       "  'page': '/users_accounts/file-upload [16/Apr/2019:193452+0000] HTTP/1.1 {201} 42 \"User-Agent: Mozilla/5.0 (X11; Fedora; Fedora; Linux x86_64) AppleWebKit/537.36',\n",
       "  'datetime': '(KHTML,',\n",
       "  'version': 'like',\n",
       "  'code': 'Gecko)',\n",
       "  'hits': 'Chrome/73.0.3683.86',\n",
       "  'requests': 'Safari/537.36\"',\n",
       "  'url': '97.105.19.58'},\n",
       " {'protocol': 'GET',\n",
       "  'page': '/api/v1/items?page=3',\n",
       "  'datetime': '[16/Apr/2019:193453+0000]',\n",
       "  'version': 'HTTP/1.1',\n",
       "  'code': '{429}',\n",
       "  'hits': '3561',\n",
       "  'requests': '\"python-requests/2.21.0\"',\n",
       "  'url': '97.105.19.58'}]"
      ]
     },
     "execution_count": 235,
     "metadata": {},
     "output_type": "execute_result"
    }
   ],
   "source": [
    "[re.search(pattern, url).groupdict() for url in urls]"
   ]
  },
  {
   "cell_type": "code",
   "execution_count": null,
   "id": "bb0f8338",
   "metadata": {},
   "outputs": [],
   "source": []
  }
 ],
 "metadata": {
  "kernelspec": {
   "display_name": "Python 3 (ipykernel)",
   "language": "python",
   "name": "python3"
  },
  "language_info": {
   "codemirror_mode": {
    "name": "ipython",
    "version": 3
   },
   "file_extension": ".py",
   "mimetype": "text/x-python",
   "name": "python",
   "nbconvert_exporter": "python",
   "pygments_lexer": "ipython3",
   "version": "3.9.13"
  }
 },
 "nbformat": 4,
 "nbformat_minor": 5
}
